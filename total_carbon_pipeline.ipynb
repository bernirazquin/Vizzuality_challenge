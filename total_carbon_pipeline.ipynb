{
 "cells": [
  {
   "cell_type": "markdown",
   "id": "b59dc12d",
   "metadata": {},
   "source": [
    "# Vizzuality Challenge, ETL pipeline. \n",
    " Summarized total ecosystem carbon of the northern lakes region in the USA using data from the National Forest Carbon Monitoring System."
   ]
  },
  {
   "cell_type": "markdown",
   "id": "b9f43834",
   "metadata": {},
   "source": [
    "This Notebook is set to process de downloaded files from the National Forest Carbon Monitoring System (Check Readme.txt for specifications on download.py)\n",
    "\n",
    "This ETL pipeline will: \n",
    "\n",
    "- 1 - Automatically download the necesary data (download.py)\n",
    "\n",
    "- 2 - Select the ROI (Every county of the states of Michigan, Wisconsin and Minnesota) within the USA administrative boundaries Shapefile source\n",
    "\n",
    "- 3 - Summarize Total Ecosystem Carbon for the set ROI. TotalExosystemCarbon_2020 is the choosed raster due that is the \"current\" state of carbon ecosystem data in the region. \n",
    "\n",
    "- 4 - Convert according to necesity CRSs, units, etc. \n",
    "\n",
    "- 5 - Create a .gpkg file with the Total Ecosystem Carbon values\n",
    "\n",
    "- 6 - Upload it to a relational database for inquires \n",
    "\n",
    "- 7 - Simple vizzualization of the output data. "
   ]
  },
  {
   "cell_type": "code",
   "execution_count": null,
   "id": "a86fe77b",
   "metadata": {},
   "outputs": [
    {
     "name": "stdout",
     "output_type": "stream",
     "text": [
      "d:\\conda_envs\\vizz_challenge\\python.exe\n"
     ]
    }
   ],
   "source": [
    "import sys\n",
    "print(sys.executable)"
   ]
  },
  {
   "cell_type": "code",
   "execution_count": 2,
   "id": "01b103b9",
   "metadata": {},
   "outputs": [
    {
     "name": "stdout",
     "output_type": "stream",
     "text": [
      "Folders are ready: [WindowsPath('d:/Vizzuality_challenge/data/.gitkeep'), WindowsPath('d:/Vizzuality_challenge/data/output'), WindowsPath('d:/Vizzuality_challenge/data/processed'), WindowsPath('d:/Vizzuality_challenge/data/raw')]\n"
     ]
    }
   ],
   "source": [
    "from pathlib import Path\n",
    "import requests, zipfile\n",
    "import geopandas as gpd\n",
    "import rasterio\n",
    "from rasterio.mask import mask\n",
    "from rasterstats import zonal_stats\n",
    "import pandas as pd\n",
    "import numpy as np\n",
    "import warnings\n",
    "\n",
    "# Base directories. Creates the necessary folder structure for simplicity\n",
    "BASE_DIR = Path.cwd()\n",
    "DATA_DIR = BASE_DIR / \"data\"\n",
    "RAW = DATA_DIR / \"raw\"\n",
    "PROCESSED = DATA_DIR / \"processed\"\n",
    "OUTPUT = DATA_DIR / \"output\"\n",
    "\n",
    "for folder in [RAW, PROCESSED, OUTPUT]:\n",
    "    folder.mkdir(parents=True, exist_ok=True)\n",
    "\n",
    "print(\"Folders are ready:\", list(DATA_DIR.glob('*')))"
   ]
  },
  {
   "cell_type": "code",
   "execution_count": 4,
   "id": "f7f85f01",
   "metadata": {},
   "outputs": [
    {
     "name": "stdout",
     "output_type": "stream",
     "text": [
      "Skipping: tl_2025_us_county already exists with content.\n",
      "Skipping: v861gwms9fq68sitl0r3vs2v3moxeu9x already exists with content.\n",
      "✅ Descargas completas.\n"
     ]
    }
   ],
   "source": [
    "# Data download, quick import from download.py file. You can also execute .py file directly if wanted.\n",
    "# This module is added to the notebook for the intent of traceability. \n",
    "\n",
    "from download import download_and_extract  # 👈 importa la función desde tu script\n",
    "\n",
    "# URLs\n",
    "COUNTIES_URL = \"https://www2.census.gov/geo/tiger/TIGER2025/COUNTY/tl_2025_us_county.zip\"\n",
    "CARBON_URL = \"https://usfs-public.box.com/shared/static/v861gwms9fq68sitl0r3vs2v3moxeu9x.zip\"\n",
    "\n",
    "# Descarga\n",
    "counties_dir = download_and_extract(COUNTIES_URL, RAW)\n",
    "carbon_dir = download_and_extract(CARBON_URL, RAW)\n",
    "\n",
    "# Encontrar paths después de la descarga\n",
    "shp_path = list(counties_dir.rglob(\"*.shp\"))[0]\n",
    "raster_path = next(carbon_dir.rglob(\"*.tif\"))\n",
    "print(\"✅ Descargas completas.\")\n"
   ]
  },
  {
   "cell_type": "code",
   "execution_count": 5,
   "id": "de7a57ac",
   "metadata": {},
   "outputs": [
    {
     "name": "stdout",
     "output_type": "stream",
     "text": [
      "Shapefile saved in: d:\\Vizzuality_challenge\\data\\processed\\counties_MI_WI_MN.gpkg\n",
      "County count 242\n"
     ]
    }
   ],
   "source": [
    "# County filtering \n",
    "\n",
    "gdf = gpd.read_file(shp_path)\n",
    "\n",
    "# FIPS de Michigan (26), Minnesota (27), Wisconsin (55) (.shp column)\n",
    "filtered = gdf[gdf[\"STATEFP\"].isin([\"26\", \"27\", \"55\"])].copy()\n",
    "filtered_path = PROCESSED / \"counties_MI_WI_MN.gpkg\" # Change to gpkg for file consistency\n",
    "filtered.to_file(filtered_path, driver=\"GPKG\")\n",
    "\n",
    "print(f\"Shapefile saved in: {filtered_path}\")\n",
    "print(\"County count\", len(filtered))"
   ]
  },
  {
   "cell_type": "code",
   "execution_count": 9,
   "id": "e07a76f8",
   "metadata": {},
   "outputs": [
    {
     "name": "stdout",
     "output_type": "stream",
     "text": [
      "\n",
      "Raster & counties correction\n",
      "Original raster path: d:\\Vizzuality_challenge\\data\\raw\\v861gwms9fq68sitl0r3vs2v3moxeu9x\\Data\\NLS\\NLS_AbovegroundBiomass2020.tif\n",
      "New Geopackage saved in: d:\\Vizzuality_challenge\\data\\processed\\counties_reproj.gpkg\n",
      "⚠️ The variable 'clipped_raster' points to the original raster (NLS_AbovegroundBiomass2020.tif) to avoid memory errors.\n"
     ]
    }
   ],
   "source": [
    "# Raster and poligons CRS corrections. Normalization of objects. \n",
    "# Module obtains CRS from raster, equals it to .gpkg file and defines route to be used by Zonal Stats. \n",
    "\n",
    "print(\"\\nRaster & counties correction\")\n",
    "print(\"Original raster path:\", raster_path)\n",
    "\n",
    "with rasterio.open(raster_path) as src:\n",
    "    raster_crs = src.crs\n",
    "    \n",
    "    # 1. Reproyects de .gpkg file to equal rasters CRS. \n",
    "    gdf_reproj = gpd.read_file(filtered_path).to_crs(raster_crs)\n",
    "    \n",
    "    # 2. Saves the reproyected .pgpk for future use\n",
    "    filtered_path_reproj = PROCESSED / \"counties_reproj.gpkg\"\n",
    "    gdf_reproj.to_file(filtered_path_reproj, driver=\"GPKG\")\n",
    "    \n",
    "    clipped_raster = raster_path # Due to RAM limitations...  \n",
    "\n",
    "print(f\"New Geopackage saved in: {filtered_path_reproj}\")\n",
    "print(f\"⚠️ The variable 'clipped_raster' points to the original raster ({clipped_raster.name}) to avoid memory errors.\")\n"
   ]
  },
  {
   "cell_type": "code",
   "execution_count": null,
   "id": "5aa4da99",
   "metadata": {},
   "outputs": [],
   "source": []
  }
 ],
 "metadata": {
  "kernelspec": {
   "display_name": "vizz_env",
   "language": "python",
   "name": "python3"
  },
  "language_info": {
   "codemirror_mode": {
    "name": "ipython",
    "version": 3
   },
   "file_extension": ".py",
   "mimetype": "text/x-python",
   "name": "python",
   "nbconvert_exporter": "python",
   "pygments_lexer": "ipython3",
   "version": "3.11.14"
  }
 },
 "nbformat": 4,
 "nbformat_minor": 5
}
