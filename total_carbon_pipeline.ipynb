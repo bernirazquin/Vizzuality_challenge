{
 "cells": [
  {
   "cell_type": "markdown",
   "id": "b59dc12d",
   "metadata": {},
   "source": [
    "# Vizzuality Challenge, ETL pipeline. \n",
    " Summarized total ecosystem carbon of the northern lakes region in the USA using data from the National Forest Carbon Monitoring System."
   ]
  },
  {
   "cell_type": "markdown",
   "id": "b9f43834",
   "metadata": {},
   "source": [
    "This Notebook is set to process de downloaded files from the National Forest Carbon Monitoring System (Check Readme.txt for specifications on download.py)\n",
    "\n",
    "This ETL pipeline will: \n",
    "\n",
    "- 1 - Automatically download the necesary data (download.py)\n",
    "\n",
    "- 2 - Select the ROI (Every county of the states of Michigan, Wisconsin and Minnesota) within the USA administrative boundaries Shapefile source\n",
    "\n",
    "- 3 - Summarize Total Ecosystem Carbon for the set ROI. TotalExosystemCarbon_2020 is the choosed raster due that is the \"current\" state of carbon ecosystem data in the region. \n",
    "\n",
    "- 4 - Convert according to necesity CRSs, units, etc. \n",
    "\n",
    "- 5 - Create a .gpkg file with the Total Ecosystem Carbon values\n",
    "\n",
    "- 6 - Upload it to a relational database for inquires \n",
    "\n",
    "- 7 - Simple vizzualization of the output data. "
   ]
  },
  {
   "cell_type": "code",
   "execution_count": null,
   "id": "a86fe77b",
   "metadata": {},
   "outputs": [
    {
     "name": "stdout",
     "output_type": "stream",
     "text": [
      "d:\\conda_envs\\vizz_challenge\\python.exe\n"
     ]
    }
   ],
   "source": [
    "import sys\n",
    "print(sys.executable)"
   ]
  },
  {
   "cell_type": "code",
   "execution_count": null,
   "id": "01b103b9",
   "metadata": {},
   "outputs": [
    {
     "name": "stdout",
     "output_type": "stream",
     "text": [
      "Folders are ready: [WindowsPath('d:/Vizzuality_challenge/data/output'), WindowsPath('d:/Vizzuality_challenge/data/processed'), WindowsPath('d:/Vizzuality_challenge/data/raw')]\n"
     ]
    }
   ],
   "source": [
    "from pathlib import Path\n",
    "import requests, zipfile\n",
    "import geopandas as gpd\n",
    "import rasterio\n",
    "from rasterio.mask import mask\n",
    "from rasterstats import zonal_stats\n",
    "import pandas as pd\n",
    "import numpy as np\n",
    "import warnings\n",
    "\n",
    "# Base directories. Creates the necessary folder structure for simplicity\n",
    "BASE_DIR = Path.cwd()\n",
    "DATA_DIR = BASE_DIR / \"data\"\n",
    "RAW = DATA_DIR / \"raw\"\n",
    "PROCESSED = DATA_DIR / \"processed\"\n",
    "OUTPUT = DATA_DIR / \"output\"\n",
    "\n",
    "for folder in [RAW, PROCESSED, OUTPUT]:\n",
    "    folder.mkdir(parents=True, exist_ok=True)\n",
    "\n",
    "print(\"Folders are ready:\", list(DATA_DIR.glob('*')))"
   ]
  },
  {
   "cell_type": "code",
   "execution_count": 6,
   "id": "f7f85f01",
   "metadata": {},
   "outputs": [
    {
     "name": "stdout",
     "output_type": "stream",
     "text": [
      "File downloaded: tl_2025_us_county.zip\n",
      "Files extracted in: tl_2025_us_county\n",
      "File downloaded: v861gwms9fq68sitl0r3vs2v3moxeu9x.zip\n",
      "Extracting files to v861gwms9fq68sitl0r3vs2v3moxeu9x...\n",
      "Extraction completed\n",
      "✅ Descargas completas.\n"
     ]
    }
   ],
   "source": [
    "# Data download, quick import from download.py file. You can also execute .py file directly if wanted.\n",
    "# This module is added to the notebook for the intent of traceability. \n",
    "\n",
    "from download import download_and_extract  # 👈 importa la función desde tu script\n",
    "\n",
    "# URLs\n",
    "COUNTIES_URL = \"https://www2.census.gov/geo/tiger/TIGER2025/COUNTY/tl_2025_us_county.zip\"\n",
    "CARBON_URL = \"https://usfs-public.box.com/shared/static/v861gwms9fq68sitl0r3vs2v3moxeu9x.zip\"\n",
    "\n",
    "# Descarga\n",
    "counties_dir = download_and_extract(COUNTIES_URL, RAW)\n",
    "carbon_dir = download_and_extract(CARBON_URL, RAW)\n",
    "\n",
    "# Encontrar paths después de la descarga\n",
    "shp_path = list(counties_dir.rglob(\"*.shp\"))[0]\n",
    "raster_path = next(carbon_dir.rglob(\"*.tif\"))\n",
    "print(\"✅ Descargas completas.\")\n"
   ]
  },
  {
   "cell_type": "code",
   "execution_count": null,
   "id": "de7a57ac",
   "metadata": {},
   "outputs": [],
   "source": [
    "# Filters the counties within the ROI\n",
    "shp_path = list(counties_dir.glob(\"*.shp\"))[0]\n",
    "gdf = gpd.read_file(shp_path)\n",
    "\n",
    "# Michigan (26), Minnesota (27), Wisconsin (55), States code in .shp file.\n",
    "filtered = gdf[gdf[\"STATEFP\"].isin([\"26\", \"27\", \"55\"])]\n",
    "filtered_path = PROCESSED / \"counties_MI_WI_MN.shp\"\n",
    "filtered.to_file(filtered_path)\n",
    "\n",
    "print(f\" Saved shapefiled in: {filtered_path}\")\n",
    "print(\"# of counties:\", len(filtered))\n"
   ]
  },
  {
   "cell_type": "code",
   "execution_count": null,
   "id": "e07a76f8",
   "metadata": {},
   "outputs": [],
   "source": [
    "#Raster cut and CRS reprojection, for easier analysis and vizzualization\n",
    "raster_path = next(carbon_dir.rglob(\"*.tif\"))\n",
    "print(\"Original raster:\", raster_path)\n",
    "\n",
    "with rasterio.open(raster_path) as src:\n",
    "    raster_crs = src.crs\n",
    "    gdf = gpd.read_file(filtered_path).to_crs(raster_crs)\n",
    "    geoms = [geom for geom in gdf.geometry]\n",
    "    out_image, out_transform = mask(src, geoms, crop=True)\n",
    "    out_meta = src.meta.copy()\n",
    "    out_meta.update({\n",
    "        \"driver\": \"GTiff\",\n",
    "        \"height\": out_image.shape[1],\n",
    "        \"width\": out_image.shape[2],\n",
    "        \"transform\": out_transform\n",
    "    })\n",
    "\n",
    "clipped_raster = PROCESSED / \"carbon_MI_WI_MN.tif\"\n",
    "with rasterio.open(clipped_raster, \"w\", **out_meta) as dest:\n",
    "    dest.write(out_image)\n",
    "\n",
    "print(f\"Cut raster saved in: {clipped_raster}\")"
   ]
  },
  {
   "cell_type": "code",
   "execution_count": null,
   "id": "5aa4da99",
   "metadata": {},
   "outputs": [],
   "source": []
  }
 ],
 "metadata": {
  "kernelspec": {
   "display_name": "vizz_env",
   "language": "python",
   "name": "python3"
  },
  "language_info": {
   "codemirror_mode": {
    "name": "ipython",
    "version": 3
   },
   "file_extension": ".py",
   "mimetype": "text/x-python",
   "name": "python",
   "nbconvert_exporter": "python",
   "pygments_lexer": "ipython3",
   "version": "3.11.14"
  }
 },
 "nbformat": 4,
 "nbformat_minor": 5
}
