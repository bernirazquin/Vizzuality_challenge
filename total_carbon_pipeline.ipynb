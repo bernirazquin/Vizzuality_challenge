{
 "cells": [
  {
   "cell_type": "markdown",
   "id": "b59dc12d",
   "metadata": {},
   "source": [
    "# Vizzuality Challenge, ETL pipeline. \n",
    " Summarized total ecosystem carbon of the northern lakes region in the USA using data from the National Forest Carbon Monitoring System."
   ]
  },
  {
   "cell_type": "markdown",
   "id": "b9f43834",
   "metadata": {},
   "source": [
    "This Notebook is set to process de downloaded files from the National Forest Carbon Monitoring System (Check Readme.txt for specifications on download.py)\n",
    "\n",
    "This ETL pipeline will: \n",
    "\n",
    "1- Automatically download the necesary data (download.py)\n",
    "2- Select the ROI (Every county of the states of Michigan, Wisconsin and Minnesota) within the USA administrative boundaries Shapefile source\n",
    "3- Summarize Total Ecosystem Carbon for the set ROI. TotalExosystemCarbon_2020 is the choosed raster due that is the \"current\" state of carbon ecosystem data in the region. \n",
    "4- Convert according to necesity CRSs, units, etc. \n",
    "5- Create a .gpkg file with the Total Ecosystem Carbon values\n",
    "6- Upload it to a relational database for inquires \n",
    "7- Simple vizzualization of the output data. "
   ]
  }
 ],
 "metadata": {
  "language_info": {
   "name": "python"
  }
 },
 "nbformat": 4,
 "nbformat_minor": 5
}
